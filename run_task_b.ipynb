{
  "nbformat": 4,
  "nbformat_minor": 0,
  "metadata": {
    "colab": {
      "provenance": []
    },
    "kernelspec": {
      "name": "python3",
      "display_name": "Python 3"
    },
    "language_info": {
      "name": "python"
    }
  },
  "cells": [
    {
      "cell_type": "code",
      "execution_count": null,
      "metadata": {
        "id": "WHDLJLK4--NF"
      },
      "outputs": [],
      "source": [
        "# Task B — RFQ Similarity Runner\n",
        "# Can be used in Colab or Jupyter\n",
        "\n",
        "import task_b as pipeline\n",
        "\n",
        "# Run the pipeline end-to-end\n",
        "pipeline.main()\n",
        "\n",
        "# Check the outputs\n",
        "import pandas as pd\n",
        "rfq_enriched = pd.read_csv(\"rfq_enriched.csv\")\n",
        "top3 = pd.read_csv(\"top3.csv\")\n",
        "\n",
        "print(\"Enriched RFQ sample:\")\n",
        "display(rfq_enriched.head())\n",
        "\n",
        "print(\"Top-3 similarity sample:\")\n",
        "display(top3.head())\n"
      ]
    }
  ]
}